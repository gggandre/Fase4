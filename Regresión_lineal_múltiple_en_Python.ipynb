{
  "nbformat": 4,
  "nbformat_minor": 0,
  "metadata": {
    "colab": {
      "name": "Regresión lineal múltiple en Python",
      "provenance": [],
      "collapsed_sections": []
    },
    "kernelspec": {
      "name": "python3",
      "display_name": "Python 3"
    },
    "language_info": {
      "name": "python"
    }
  },
  "cells": [
    {
      "cell_type": "markdown",
      "source": [
        "# **Guía para: Implementación y visualización de una regresión lineal múltiple en Python**\n",
        "\n",
        "# Implementación y visualización de una regresión lineal múltiple en Python con la librería SciKit Learn\n",
        "\n",
        "SciKit Learn es prácticamente el estándar de oro cuando se trata de aprendizaje automático en Python. Tiene muchos algoritmos de aprendizaje, para regresión, clasificación, agrupamiento y reducción de dimensionalidad.\n",
        "\n",
        "Para nuestro proyecto realizaremos un algoritmo de regresión lineal multiple que alimentaremos los datos de consumo que recolectamos durante el semestre."
      ],
      "metadata": {
        "id": "Xqy_Fj5a4sPt"
      }
    },
    {
      "cell_type": "markdown",
      "source": [
        "# **Implementación:**\n",
        "Cargando y explorando los datos\n",
        "\n",
        "Recordemos como cargar y explorar nuestros datos, primero tenemos que subir nuestro archivo Excel a Google Colab\n",
        "\n",
        "1. Crea una libreta de Google Colab con el nombre de la fase.\n",
        "\n",
        "2. Da clic en la carpeta Files del lado izquierdo de la pantalla\n",
        "\n",
        "3. Da clic en Upload, selecciona tu archivo Excel con tus datos de consumo y da clic en Open. Se sugiere ponerle nombre corto sin mayúsculas ni espacios a tu archivo, por ejemplo: datos\n",
        "\n",
        "4. OK en el mensaje que nos indica que el archivo solo estará disponible en esta sesión\n",
        "\n",
        "5. Verifica que se cargó el archivo"
      ],
      "metadata": {
        "id": "qYKJDAqY4zqE"
      }
    },
    {
      "cell_type": "markdown",
      "source": [
        "Con el archivo en Colab, utilizaremos la librería Pandas para cargar los datos en un DataFrame.\n",
        "\n",
        "Crearemos una celda de código nueva para cada línea de código e iremos escribiendo y corriendo una por una para detectar posibles errores ademas de ver los resultados al ir avanzando:"
      ],
      "metadata": {
        "id": "BpqaN8hN43KV"
      }
    },
    {
      "cell_type": "code",
      "execution_count": null,
      "metadata": {
        "id": "vyikIypy4WyY"
      },
      "outputs": [],
      "source": [
        "import pandas as pd # importa la librería pandas y la asigna a la variable pd"
      ]
    },
    {
      "cell_type": "markdown",
      "source": [
        "Creamos la variable datos_consumo para cargar el archivo con la función read_excel de la librería Pandas:"
      ],
      "metadata": {
        "id": "lxGX4Q9k44vN"
      }
    },
    {
      "cell_type": "code",
      "source": [
        "datos_consumo = pd.read_excel('datos.xlsx') # indicamos el nombre de nuestro archivo a ser leído"
      ],
      "metadata": {
        "id": "H2woxoKY4gcU"
      },
      "execution_count": null,
      "outputs": []
    },
    {
      "cell_type": "markdown",
      "source": [
        "Usamos la función head() para comprobar que los datos se cargaron correctemente en el dataframe viendo los primeros 5 registros:"
      ],
      "metadata": {
        "id": "AcuPi7XS46RN"
      }
    },
    {
      "cell_type": "code",
      "source": [
        "datos_consumo.head()"
      ],
      "metadata": {
        "colab": {
          "base_uri": "https://localhost:8080/",
          "height": 206
        },
        "id": "MHS6jQku4jA0",
        "outputId": "22888e99-9a2d-4303-c1aa-8019f8dfec2b"
      },
      "execution_count": null,
      "outputs": [
        {
          "output_type": "execute_result",
          "data": {
            "text/plain": [
              "   Fecha      Hora   Momento                   Nombre  Calorias (kcal)  \\\n",
              "0  44613  0.250000  Desayuno                Hot Cakes              334   \n",
              "1  44613  0.458333  Desayuno                 Fuze Tea              116   \n",
              "2  44613  0.583333    Comida  Chicken Teriyaki Subway               62   \n",
              "3  44613  0.875000      Cena     Cereal Choco Krispis              153   \n",
              "4  44614  0.312500  Desayuno       Cuernito con jamón              213   \n",
              "\n",
              "   Carbohidratos (g)  Lípidos (g)  Proteína (g)  Sodio (mg)  \n",
              "0                 52            4            11         596  \n",
              "1                 27            0             1           0  \n",
              "2                  9            1             4         128  \n",
              "3                 31            1             6         240  \n",
              "4                 30            5             6         508  "
            ],
            "text/html": [
              "\n",
              "  <div id=\"df-58591a57-9c6c-4de8-a121-5ee1dc00a6b7\">\n",
              "    <div class=\"colab-df-container\">\n",
              "      <div>\n",
              "<style scoped>\n",
              "    .dataframe tbody tr th:only-of-type {\n",
              "        vertical-align: middle;\n",
              "    }\n",
              "\n",
              "    .dataframe tbody tr th {\n",
              "        vertical-align: top;\n",
              "    }\n",
              "\n",
              "    .dataframe thead th {\n",
              "        text-align: right;\n",
              "    }\n",
              "</style>\n",
              "<table border=\"1\" class=\"dataframe\">\n",
              "  <thead>\n",
              "    <tr style=\"text-align: right;\">\n",
              "      <th></th>\n",
              "      <th>Fecha</th>\n",
              "      <th>Hora</th>\n",
              "      <th>Momento</th>\n",
              "      <th>Nombre</th>\n",
              "      <th>Calorias (kcal)</th>\n",
              "      <th>Carbohidratos (g)</th>\n",
              "      <th>Lípidos (g)</th>\n",
              "      <th>Proteína (g)</th>\n",
              "      <th>Sodio (mg)</th>\n",
              "    </tr>\n",
              "  </thead>\n",
              "  <tbody>\n",
              "    <tr>\n",
              "      <th>0</th>\n",
              "      <td>44613</td>\n",
              "      <td>0.250000</td>\n",
              "      <td>Desayuno</td>\n",
              "      <td>Hot Cakes</td>\n",
              "      <td>334</td>\n",
              "      <td>52</td>\n",
              "      <td>4</td>\n",
              "      <td>11</td>\n",
              "      <td>596</td>\n",
              "    </tr>\n",
              "    <tr>\n",
              "      <th>1</th>\n",
              "      <td>44613</td>\n",
              "      <td>0.458333</td>\n",
              "      <td>Desayuno</td>\n",
              "      <td>Fuze Tea</td>\n",
              "      <td>116</td>\n",
              "      <td>27</td>\n",
              "      <td>0</td>\n",
              "      <td>1</td>\n",
              "      <td>0</td>\n",
              "    </tr>\n",
              "    <tr>\n",
              "      <th>2</th>\n",
              "      <td>44613</td>\n",
              "      <td>0.583333</td>\n",
              "      <td>Comida</td>\n",
              "      <td>Chicken Teriyaki Subway</td>\n",
              "      <td>62</td>\n",
              "      <td>9</td>\n",
              "      <td>1</td>\n",
              "      <td>4</td>\n",
              "      <td>128</td>\n",
              "    </tr>\n",
              "    <tr>\n",
              "      <th>3</th>\n",
              "      <td>44613</td>\n",
              "      <td>0.875000</td>\n",
              "      <td>Cena</td>\n",
              "      <td>Cereal Choco Krispis</td>\n",
              "      <td>153</td>\n",
              "      <td>31</td>\n",
              "      <td>1</td>\n",
              "      <td>6</td>\n",
              "      <td>240</td>\n",
              "    </tr>\n",
              "    <tr>\n",
              "      <th>4</th>\n",
              "      <td>44614</td>\n",
              "      <td>0.312500</td>\n",
              "      <td>Desayuno</td>\n",
              "      <td>Cuernito con jamón</td>\n",
              "      <td>213</td>\n",
              "      <td>30</td>\n",
              "      <td>5</td>\n",
              "      <td>6</td>\n",
              "      <td>508</td>\n",
              "    </tr>\n",
              "  </tbody>\n",
              "</table>\n",
              "</div>\n",
              "      <button class=\"colab-df-convert\" onclick=\"convertToInteractive('df-58591a57-9c6c-4de8-a121-5ee1dc00a6b7')\"\n",
              "              title=\"Convert this dataframe to an interactive table.\"\n",
              "              style=\"display:none;\">\n",
              "        \n",
              "  <svg xmlns=\"http://www.w3.org/2000/svg\" height=\"24px\"viewBox=\"0 0 24 24\"\n",
              "       width=\"24px\">\n",
              "    <path d=\"M0 0h24v24H0V0z\" fill=\"none\"/>\n",
              "    <path d=\"M18.56 5.44l.94 2.06.94-2.06 2.06-.94-2.06-.94-.94-2.06-.94 2.06-2.06.94zm-11 1L8.5 8.5l.94-2.06 2.06-.94-2.06-.94L8.5 2.5l-.94 2.06-2.06.94zm10 10l.94 2.06.94-2.06 2.06-.94-2.06-.94-.94-2.06-.94 2.06-2.06.94z\"/><path d=\"M17.41 7.96l-1.37-1.37c-.4-.4-.92-.59-1.43-.59-.52 0-1.04.2-1.43.59L10.3 9.45l-7.72 7.72c-.78.78-.78 2.05 0 2.83L4 21.41c.39.39.9.59 1.41.59.51 0 1.02-.2 1.41-.59l7.78-7.78 2.81-2.81c.8-.78.8-2.07 0-2.86zM5.41 20L4 18.59l7.72-7.72 1.47 1.35L5.41 20z\"/>\n",
              "  </svg>\n",
              "      </button>\n",
              "      \n",
              "  <style>\n",
              "    .colab-df-container {\n",
              "      display:flex;\n",
              "      flex-wrap:wrap;\n",
              "      gap: 12px;\n",
              "    }\n",
              "\n",
              "    .colab-df-convert {\n",
              "      background-color: #E8F0FE;\n",
              "      border: none;\n",
              "      border-radius: 50%;\n",
              "      cursor: pointer;\n",
              "      display: none;\n",
              "      fill: #1967D2;\n",
              "      height: 32px;\n",
              "      padding: 0 0 0 0;\n",
              "      width: 32px;\n",
              "    }\n",
              "\n",
              "    .colab-df-convert:hover {\n",
              "      background-color: #E2EBFA;\n",
              "      box-shadow: 0px 1px 2px rgba(60, 64, 67, 0.3), 0px 1px 3px 1px rgba(60, 64, 67, 0.15);\n",
              "      fill: #174EA6;\n",
              "    }\n",
              "\n",
              "    [theme=dark] .colab-df-convert {\n",
              "      background-color: #3B4455;\n",
              "      fill: #D2E3FC;\n",
              "    }\n",
              "\n",
              "    [theme=dark] .colab-df-convert:hover {\n",
              "      background-color: #434B5C;\n",
              "      box-shadow: 0px 1px 3px 1px rgba(0, 0, 0, 0.15);\n",
              "      filter: drop-shadow(0px 1px 2px rgba(0, 0, 0, 0.3));\n",
              "      fill: #FFFFFF;\n",
              "    }\n",
              "  </style>\n",
              "\n",
              "      <script>\n",
              "        const buttonEl =\n",
              "          document.querySelector('#df-58591a57-9c6c-4de8-a121-5ee1dc00a6b7 button.colab-df-convert');\n",
              "        buttonEl.style.display =\n",
              "          google.colab.kernel.accessAllowed ? 'block' : 'none';\n",
              "\n",
              "        async function convertToInteractive(key) {\n",
              "          const element = document.querySelector('#df-58591a57-9c6c-4de8-a121-5ee1dc00a6b7');\n",
              "          const dataTable =\n",
              "            await google.colab.kernel.invokeFunction('convertToInteractive',\n",
              "                                                     [key], {});\n",
              "          if (!dataTable) return;\n",
              "\n",
              "          const docLinkHtml = 'Like what you see? Visit the ' +\n",
              "            '<a target=\"_blank\" href=https://colab.research.google.com/notebooks/data_table.ipynb>data table notebook</a>'\n",
              "            + ' to learn more about interactive tables.';\n",
              "          element.innerHTML = '';\n",
              "          dataTable['output_type'] = 'display_data';\n",
              "          await google.colab.output.renderOutput(dataTable, element);\n",
              "          const docLink = document.createElement('div');\n",
              "          docLink.innerHTML = docLinkHtml;\n",
              "          element.appendChild(docLink);\n",
              "        }\n",
              "      </script>\n",
              "    </div>\n",
              "  </div>\n",
              "  "
            ]
          },
          "metadata": {},
          "execution_count": 62
        }
      ]
    },
    {
      "cell_type": "markdown",
      "source": [
        "Realizaremos una breve exploración de nuestros datos para ver como se distribuyen:"
      ],
      "metadata": {
        "id": "AyUuCsH248Ok"
      }
    },
    {
      "cell_type": "code",
      "source": [
        "datos_consumo.groupby(\"Momento\").count() # con la función groupby agrupamos los datos de la columna Momento y con count() los contamos para obtener subtotales"
      ],
      "metadata": {
        "colab": {
          "base_uri": "https://localhost:8080/",
          "height": 206
        },
        "id": "3PTadiGr4lH7",
        "outputId": "6ccde40a-ae07-430a-beff-dfde9b00c31e"
      },
      "execution_count": null,
      "outputs": [
        {
          "output_type": "execute_result",
          "data": {
            "text/plain": [
              "          Fecha  Hora  Nombre  Calorias (kcal)  Carbohidratos (g)  \\\n",
              "Momento                                                             \n",
              "Almuerzo     92    92      92               92                 92   \n",
              "Cena        100   100     100              100                100   \n",
              "Comida       99    99      99               99                 99   \n",
              "Desayuno    103   103     103              103                103   \n",
              "\n",
              "          Lípidos (g)  Proteína (g)  Sodio (mg)  \n",
              "Momento                                          \n",
              "Almuerzo           92            92          92  \n",
              "Cena              100           100         100  \n",
              "Comida             99            99          99  \n",
              "Desayuno          103           103         103  "
            ],
            "text/html": [
              "\n",
              "  <div id=\"df-0b4eafc1-78e7-4b3b-9733-cb512e72bd59\">\n",
              "    <div class=\"colab-df-container\">\n",
              "      <div>\n",
              "<style scoped>\n",
              "    .dataframe tbody tr th:only-of-type {\n",
              "        vertical-align: middle;\n",
              "    }\n",
              "\n",
              "    .dataframe tbody tr th {\n",
              "        vertical-align: top;\n",
              "    }\n",
              "\n",
              "    .dataframe thead th {\n",
              "        text-align: right;\n",
              "    }\n",
              "</style>\n",
              "<table border=\"1\" class=\"dataframe\">\n",
              "  <thead>\n",
              "    <tr style=\"text-align: right;\">\n",
              "      <th></th>\n",
              "      <th>Fecha</th>\n",
              "      <th>Hora</th>\n",
              "      <th>Nombre</th>\n",
              "      <th>Calorias (kcal)</th>\n",
              "      <th>Carbohidratos (g)</th>\n",
              "      <th>Lípidos (g)</th>\n",
              "      <th>Proteína (g)</th>\n",
              "      <th>Sodio (mg)</th>\n",
              "    </tr>\n",
              "    <tr>\n",
              "      <th>Momento</th>\n",
              "      <th></th>\n",
              "      <th></th>\n",
              "      <th></th>\n",
              "      <th></th>\n",
              "      <th></th>\n",
              "      <th></th>\n",
              "      <th></th>\n",
              "      <th></th>\n",
              "    </tr>\n",
              "  </thead>\n",
              "  <tbody>\n",
              "    <tr>\n",
              "      <th>Almuerzo</th>\n",
              "      <td>92</td>\n",
              "      <td>92</td>\n",
              "      <td>92</td>\n",
              "      <td>92</td>\n",
              "      <td>92</td>\n",
              "      <td>92</td>\n",
              "      <td>92</td>\n",
              "      <td>92</td>\n",
              "    </tr>\n",
              "    <tr>\n",
              "      <th>Cena</th>\n",
              "      <td>100</td>\n",
              "      <td>100</td>\n",
              "      <td>100</td>\n",
              "      <td>100</td>\n",
              "      <td>100</td>\n",
              "      <td>100</td>\n",
              "      <td>100</td>\n",
              "      <td>100</td>\n",
              "    </tr>\n",
              "    <tr>\n",
              "      <th>Comida</th>\n",
              "      <td>99</td>\n",
              "      <td>99</td>\n",
              "      <td>99</td>\n",
              "      <td>99</td>\n",
              "      <td>99</td>\n",
              "      <td>99</td>\n",
              "      <td>99</td>\n",
              "      <td>99</td>\n",
              "    </tr>\n",
              "    <tr>\n",
              "      <th>Desayuno</th>\n",
              "      <td>103</td>\n",
              "      <td>103</td>\n",
              "      <td>103</td>\n",
              "      <td>103</td>\n",
              "      <td>103</td>\n",
              "      <td>103</td>\n",
              "      <td>103</td>\n",
              "      <td>103</td>\n",
              "    </tr>\n",
              "  </tbody>\n",
              "</table>\n",
              "</div>\n",
              "      <button class=\"colab-df-convert\" onclick=\"convertToInteractive('df-0b4eafc1-78e7-4b3b-9733-cb512e72bd59')\"\n",
              "              title=\"Convert this dataframe to an interactive table.\"\n",
              "              style=\"display:none;\">\n",
              "        \n",
              "  <svg xmlns=\"http://www.w3.org/2000/svg\" height=\"24px\"viewBox=\"0 0 24 24\"\n",
              "       width=\"24px\">\n",
              "    <path d=\"M0 0h24v24H0V0z\" fill=\"none\"/>\n",
              "    <path d=\"M18.56 5.44l.94 2.06.94-2.06 2.06-.94-2.06-.94-.94-2.06-.94 2.06-2.06.94zm-11 1L8.5 8.5l.94-2.06 2.06-.94-2.06-.94L8.5 2.5l-.94 2.06-2.06.94zm10 10l.94 2.06.94-2.06 2.06-.94-2.06-.94-.94-2.06-.94 2.06-2.06.94z\"/><path d=\"M17.41 7.96l-1.37-1.37c-.4-.4-.92-.59-1.43-.59-.52 0-1.04.2-1.43.59L10.3 9.45l-7.72 7.72c-.78.78-.78 2.05 0 2.83L4 21.41c.39.39.9.59 1.41.59.51 0 1.02-.2 1.41-.59l7.78-7.78 2.81-2.81c.8-.78.8-2.07 0-2.86zM5.41 20L4 18.59l7.72-7.72 1.47 1.35L5.41 20z\"/>\n",
              "  </svg>\n",
              "      </button>\n",
              "      \n",
              "  <style>\n",
              "    .colab-df-container {\n",
              "      display:flex;\n",
              "      flex-wrap:wrap;\n",
              "      gap: 12px;\n",
              "    }\n",
              "\n",
              "    .colab-df-convert {\n",
              "      background-color: #E8F0FE;\n",
              "      border: none;\n",
              "      border-radius: 50%;\n",
              "      cursor: pointer;\n",
              "      display: none;\n",
              "      fill: #1967D2;\n",
              "      height: 32px;\n",
              "      padding: 0 0 0 0;\n",
              "      width: 32px;\n",
              "    }\n",
              "\n",
              "    .colab-df-convert:hover {\n",
              "      background-color: #E2EBFA;\n",
              "      box-shadow: 0px 1px 2px rgba(60, 64, 67, 0.3), 0px 1px 3px 1px rgba(60, 64, 67, 0.15);\n",
              "      fill: #174EA6;\n",
              "    }\n",
              "\n",
              "    [theme=dark] .colab-df-convert {\n",
              "      background-color: #3B4455;\n",
              "      fill: #D2E3FC;\n",
              "    }\n",
              "\n",
              "    [theme=dark] .colab-df-convert:hover {\n",
              "      background-color: #434B5C;\n",
              "      box-shadow: 0px 1px 3px 1px rgba(0, 0, 0, 0.15);\n",
              "      filter: drop-shadow(0px 1px 2px rgba(0, 0, 0, 0.3));\n",
              "      fill: #FFFFFF;\n",
              "    }\n",
              "  </style>\n",
              "\n",
              "      <script>\n",
              "        const buttonEl =\n",
              "          document.querySelector('#df-0b4eafc1-78e7-4b3b-9733-cb512e72bd59 button.colab-df-convert');\n",
              "        buttonEl.style.display =\n",
              "          google.colab.kernel.accessAllowed ? 'block' : 'none';\n",
              "\n",
              "        async function convertToInteractive(key) {\n",
              "          const element = document.querySelector('#df-0b4eafc1-78e7-4b3b-9733-cb512e72bd59');\n",
              "          const dataTable =\n",
              "            await google.colab.kernel.invokeFunction('convertToInteractive',\n",
              "                                                     [key], {});\n",
              "          if (!dataTable) return;\n",
              "\n",
              "          const docLinkHtml = 'Like what you see? Visit the ' +\n",
              "            '<a target=\"_blank\" href=https://colab.research.google.com/notebooks/data_table.ipynb>data table notebook</a>'\n",
              "            + ' to learn more about interactive tables.';\n",
              "          element.innerHTML = '';\n",
              "          dataTable['output_type'] = 'display_data';\n",
              "          await google.colab.output.renderOutput(dataTable, element);\n",
              "          const docLink = document.createElement('div');\n",
              "          docLink.innerHTML = docLinkHtml;\n",
              "          element.appendChild(docLink);\n",
              "        }\n",
              "      </script>\n",
              "    </div>\n",
              "  </div>\n",
              "  "
            ]
          },
          "metadata": {},
          "execution_count": 63
        }
      ]
    },
    {
      "cell_type": "markdown",
      "source": [
        "Usamos la función describe() para obtener la estadística descriptiva y completar la exploración de nuestros datos:"
      ],
      "metadata": {
        "id": "UFoRBLim499N"
      }
    },
    {
      "cell_type": "code",
      "source": [
        "datos_consumo.describe()"
      ],
      "metadata": {
        "colab": {
          "base_uri": "https://localhost:8080/",
          "height": 300
        },
        "id": "MFN4ekSI4mLd",
        "outputId": "c570cb09-1517-428f-a5fe-bfaea32129ed"
      },
      "execution_count": null,
      "outputs": [
        {
          "output_type": "execute_result",
          "data": {
            "text/plain": [
              "              Fecha        Hora  Calorias (kcal)  Carbohidratos (g)  \\\n",
              "count    394.000000  394.000000       394.000000         394.000000   \n",
              "mean   44662.182741    0.598668       205.870558          13.517766   \n",
              "std       28.565039    0.235497        94.825733          22.131712   \n",
              "min    44613.000000    0.250000        52.000000           0.000000   \n",
              "25%    44638.000000    0.427083       116.000000           0.000000   \n",
              "50%    44662.000000    0.625000       183.000000           2.000000   \n",
              "75%    44687.000000    0.791667       280.000000          31.000000   \n",
              "max    44711.000000    0.958333       900.000000         210.000000   \n",
              "\n",
              "       Lípidos (g)  Proteína (g)   Sodio (mg)  \n",
              "count   394.000000    394.000000   394.000000  \n",
              "mean      8.664975     18.091371   363.083756  \n",
              "std       5.972749     10.130787   362.167613  \n",
              "min       0.000000      1.000000     0.000000  \n",
              "25%       4.000000      7.000000    66.000000  \n",
              "50%       6.000000     18.000000   240.000000  \n",
              "75%       7.000000     22.000000   508.000000  \n",
              "max      24.000000    132.000000  4110.000000  "
            ],
            "text/html": [
              "\n",
              "  <div id=\"df-b39dc6b7-aae8-40c8-9ae4-3d36c5e099d1\">\n",
              "    <div class=\"colab-df-container\">\n",
              "      <div>\n",
              "<style scoped>\n",
              "    .dataframe tbody tr th:only-of-type {\n",
              "        vertical-align: middle;\n",
              "    }\n",
              "\n",
              "    .dataframe tbody tr th {\n",
              "        vertical-align: top;\n",
              "    }\n",
              "\n",
              "    .dataframe thead th {\n",
              "        text-align: right;\n",
              "    }\n",
              "</style>\n",
              "<table border=\"1\" class=\"dataframe\">\n",
              "  <thead>\n",
              "    <tr style=\"text-align: right;\">\n",
              "      <th></th>\n",
              "      <th>Fecha</th>\n",
              "      <th>Hora</th>\n",
              "      <th>Calorias (kcal)</th>\n",
              "      <th>Carbohidratos (g)</th>\n",
              "      <th>Lípidos (g)</th>\n",
              "      <th>Proteína (g)</th>\n",
              "      <th>Sodio (mg)</th>\n",
              "    </tr>\n",
              "  </thead>\n",
              "  <tbody>\n",
              "    <tr>\n",
              "      <th>count</th>\n",
              "      <td>394.000000</td>\n",
              "      <td>394.000000</td>\n",
              "      <td>394.000000</td>\n",
              "      <td>394.000000</td>\n",
              "      <td>394.000000</td>\n",
              "      <td>394.000000</td>\n",
              "      <td>394.000000</td>\n",
              "    </tr>\n",
              "    <tr>\n",
              "      <th>mean</th>\n",
              "      <td>44662.182741</td>\n",
              "      <td>0.598668</td>\n",
              "      <td>205.870558</td>\n",
              "      <td>13.517766</td>\n",
              "      <td>8.664975</td>\n",
              "      <td>18.091371</td>\n",
              "      <td>363.083756</td>\n",
              "    </tr>\n",
              "    <tr>\n",
              "      <th>std</th>\n",
              "      <td>28.565039</td>\n",
              "      <td>0.235497</td>\n",
              "      <td>94.825733</td>\n",
              "      <td>22.131712</td>\n",
              "      <td>5.972749</td>\n",
              "      <td>10.130787</td>\n",
              "      <td>362.167613</td>\n",
              "    </tr>\n",
              "    <tr>\n",
              "      <th>min</th>\n",
              "      <td>44613.000000</td>\n",
              "      <td>0.250000</td>\n",
              "      <td>52.000000</td>\n",
              "      <td>0.000000</td>\n",
              "      <td>0.000000</td>\n",
              "      <td>1.000000</td>\n",
              "      <td>0.000000</td>\n",
              "    </tr>\n",
              "    <tr>\n",
              "      <th>25%</th>\n",
              "      <td>44638.000000</td>\n",
              "      <td>0.427083</td>\n",
              "      <td>116.000000</td>\n",
              "      <td>0.000000</td>\n",
              "      <td>4.000000</td>\n",
              "      <td>7.000000</td>\n",
              "      <td>66.000000</td>\n",
              "    </tr>\n",
              "    <tr>\n",
              "      <th>50%</th>\n",
              "      <td>44662.000000</td>\n",
              "      <td>0.625000</td>\n",
              "      <td>183.000000</td>\n",
              "      <td>2.000000</td>\n",
              "      <td>6.000000</td>\n",
              "      <td>18.000000</td>\n",
              "      <td>240.000000</td>\n",
              "    </tr>\n",
              "    <tr>\n",
              "      <th>75%</th>\n",
              "      <td>44687.000000</td>\n",
              "      <td>0.791667</td>\n",
              "      <td>280.000000</td>\n",
              "      <td>31.000000</td>\n",
              "      <td>7.000000</td>\n",
              "      <td>22.000000</td>\n",
              "      <td>508.000000</td>\n",
              "    </tr>\n",
              "    <tr>\n",
              "      <th>max</th>\n",
              "      <td>44711.000000</td>\n",
              "      <td>0.958333</td>\n",
              "      <td>900.000000</td>\n",
              "      <td>210.000000</td>\n",
              "      <td>24.000000</td>\n",
              "      <td>132.000000</td>\n",
              "      <td>4110.000000</td>\n",
              "    </tr>\n",
              "  </tbody>\n",
              "</table>\n",
              "</div>\n",
              "      <button class=\"colab-df-convert\" onclick=\"convertToInteractive('df-b39dc6b7-aae8-40c8-9ae4-3d36c5e099d1')\"\n",
              "              title=\"Convert this dataframe to an interactive table.\"\n",
              "              style=\"display:none;\">\n",
              "        \n",
              "  <svg xmlns=\"http://www.w3.org/2000/svg\" height=\"24px\"viewBox=\"0 0 24 24\"\n",
              "       width=\"24px\">\n",
              "    <path d=\"M0 0h24v24H0V0z\" fill=\"none\"/>\n",
              "    <path d=\"M18.56 5.44l.94 2.06.94-2.06 2.06-.94-2.06-.94-.94-2.06-.94 2.06-2.06.94zm-11 1L8.5 8.5l.94-2.06 2.06-.94-2.06-.94L8.5 2.5l-.94 2.06-2.06.94zm10 10l.94 2.06.94-2.06 2.06-.94-2.06-.94-.94-2.06-.94 2.06-2.06.94z\"/><path d=\"M17.41 7.96l-1.37-1.37c-.4-.4-.92-.59-1.43-.59-.52 0-1.04.2-1.43.59L10.3 9.45l-7.72 7.72c-.78.78-.78 2.05 0 2.83L4 21.41c.39.39.9.59 1.41.59.51 0 1.02-.2 1.41-.59l7.78-7.78 2.81-2.81c.8-.78.8-2.07 0-2.86zM5.41 20L4 18.59l7.72-7.72 1.47 1.35L5.41 20z\"/>\n",
              "  </svg>\n",
              "      </button>\n",
              "      \n",
              "  <style>\n",
              "    .colab-df-container {\n",
              "      display:flex;\n",
              "      flex-wrap:wrap;\n",
              "      gap: 12px;\n",
              "    }\n",
              "\n",
              "    .colab-df-convert {\n",
              "      background-color: #E8F0FE;\n",
              "      border: none;\n",
              "      border-radius: 50%;\n",
              "      cursor: pointer;\n",
              "      display: none;\n",
              "      fill: #1967D2;\n",
              "      height: 32px;\n",
              "      padding: 0 0 0 0;\n",
              "      width: 32px;\n",
              "    }\n",
              "\n",
              "    .colab-df-convert:hover {\n",
              "      background-color: #E2EBFA;\n",
              "      box-shadow: 0px 1px 2px rgba(60, 64, 67, 0.3), 0px 1px 3px 1px rgba(60, 64, 67, 0.15);\n",
              "      fill: #174EA6;\n",
              "    }\n",
              "\n",
              "    [theme=dark] .colab-df-convert {\n",
              "      background-color: #3B4455;\n",
              "      fill: #D2E3FC;\n",
              "    }\n",
              "\n",
              "    [theme=dark] .colab-df-convert:hover {\n",
              "      background-color: #434B5C;\n",
              "      box-shadow: 0px 1px 3px 1px rgba(0, 0, 0, 0.15);\n",
              "      filter: drop-shadow(0px 1px 2px rgba(0, 0, 0, 0.3));\n",
              "      fill: #FFFFFF;\n",
              "    }\n",
              "  </style>\n",
              "\n",
              "      <script>\n",
              "        const buttonEl =\n",
              "          document.querySelector('#df-b39dc6b7-aae8-40c8-9ae4-3d36c5e099d1 button.colab-df-convert');\n",
              "        buttonEl.style.display =\n",
              "          google.colab.kernel.accessAllowed ? 'block' : 'none';\n",
              "\n",
              "        async function convertToInteractive(key) {\n",
              "          const element = document.querySelector('#df-b39dc6b7-aae8-40c8-9ae4-3d36c5e099d1');\n",
              "          const dataTable =\n",
              "            await google.colab.kernel.invokeFunction('convertToInteractive',\n",
              "                                                     [key], {});\n",
              "          if (!dataTable) return;\n",
              "\n",
              "          const docLinkHtml = 'Like what you see? Visit the ' +\n",
              "            '<a target=\"_blank\" href=https://colab.research.google.com/notebooks/data_table.ipynb>data table notebook</a>'\n",
              "            + ' to learn more about interactive tables.';\n",
              "          element.innerHTML = '';\n",
              "          dataTable['output_type'] = 'display_data';\n",
              "          await google.colab.output.renderOutput(dataTable, element);\n",
              "          const docLink = document.createElement('div');\n",
              "          docLink.innerHTML = docLinkHtml;\n",
              "          element.appendChild(docLink);\n",
              "        }\n",
              "      </script>\n",
              "    </div>\n",
              "  </div>\n",
              "  "
            ]
          },
          "metadata": {},
          "execution_count": 66
        }
      ]
    },
    {
      "cell_type": "markdown",
      "source": [
        "# **Seleccionando los datos**\n",
        "\n",
        "Creamos una variable datos para asignarle el DafaFrame que contendrá solo los datos que analizaremos, utilizamos la función iloc[ ] para seleccionar los elementos de acuerdo a su ubicación. Su sintaxis es iloc[<filas>, <columnas>]:"
      ],
      "metadata": {
        "id": "LeDXvVYy5BdU"
      }
    },
    {
      "cell_type": "code",
      "source": [
        "datos_seleccionados = datos_consumo.iloc[:,3:8] # : selecciona todas las filas y 3:8(-1) seleccion columnas de la 4 la 7\n",
        "\n",
        "datos_seleccionados # desplegamos el dataframe"
      ],
      "metadata": {
        "colab": {
          "base_uri": "https://localhost:8080/",
          "height": 424
        },
        "id": "cqyJenzF4oJl",
        "outputId": "c964d73f-9c19-4429-9525-aaf5274380dc"
      },
      "execution_count": null,
      "outputs": [
        {
          "output_type": "execute_result",
          "data": {
            "text/plain": [
              "                               Nombre  Calorias (kcal)  Carbohidratos (g)  \\\n",
              "0                           Hot Cakes              334                 52   \n",
              "1                            Fuze Tea              116                 27   \n",
              "2             Chicken Teriyaki Subway               62                  9   \n",
              "3                Cereal Choco Krispis              153                 31   \n",
              "4                  Cuernito con jamón              213                 30   \n",
              "..                                ...              ...                ...   \n",
              "389  tacos de carne molida y verduras              276                  0   \n",
              "390                  Sandwich de Pavo              280                 46   \n",
              "391          Pechuga de pollo y arroz              145                  0   \n",
              "392  tacos de carne molida y verduras              276                  0   \n",
              "393               Huevo a la mexicana              106                  2   \n",
              "\n",
              "     Lípidos (g)  Proteína (g)  \n",
              "0              4            11  \n",
              "1              0             1  \n",
              "2              1             4  \n",
              "3              1             6  \n",
              "4              5             6  \n",
              "..           ...           ...  \n",
              "389           19            25  \n",
              "390            4            18  \n",
              "391            6            22  \n",
              "392           19            25  \n",
              "393            7             7  \n",
              "\n",
              "[394 rows x 5 columns]"
            ],
            "text/html": [
              "\n",
              "  <div id=\"df-2bcb7150-917b-4a65-9be3-4302bc47b769\">\n",
              "    <div class=\"colab-df-container\">\n",
              "      <div>\n",
              "<style scoped>\n",
              "    .dataframe tbody tr th:only-of-type {\n",
              "        vertical-align: middle;\n",
              "    }\n",
              "\n",
              "    .dataframe tbody tr th {\n",
              "        vertical-align: top;\n",
              "    }\n",
              "\n",
              "    .dataframe thead th {\n",
              "        text-align: right;\n",
              "    }\n",
              "</style>\n",
              "<table border=\"1\" class=\"dataframe\">\n",
              "  <thead>\n",
              "    <tr style=\"text-align: right;\">\n",
              "      <th></th>\n",
              "      <th>Nombre</th>\n",
              "      <th>Calorias (kcal)</th>\n",
              "      <th>Carbohidratos (g)</th>\n",
              "      <th>Lípidos (g)</th>\n",
              "      <th>Proteína (g)</th>\n",
              "    </tr>\n",
              "  </thead>\n",
              "  <tbody>\n",
              "    <tr>\n",
              "      <th>0</th>\n",
              "      <td>Hot Cakes</td>\n",
              "      <td>334</td>\n",
              "      <td>52</td>\n",
              "      <td>4</td>\n",
              "      <td>11</td>\n",
              "    </tr>\n",
              "    <tr>\n",
              "      <th>1</th>\n",
              "      <td>Fuze Tea</td>\n",
              "      <td>116</td>\n",
              "      <td>27</td>\n",
              "      <td>0</td>\n",
              "      <td>1</td>\n",
              "    </tr>\n",
              "    <tr>\n",
              "      <th>2</th>\n",
              "      <td>Chicken Teriyaki Subway</td>\n",
              "      <td>62</td>\n",
              "      <td>9</td>\n",
              "      <td>1</td>\n",
              "      <td>4</td>\n",
              "    </tr>\n",
              "    <tr>\n",
              "      <th>3</th>\n",
              "      <td>Cereal Choco Krispis</td>\n",
              "      <td>153</td>\n",
              "      <td>31</td>\n",
              "      <td>1</td>\n",
              "      <td>6</td>\n",
              "    </tr>\n",
              "    <tr>\n",
              "      <th>4</th>\n",
              "      <td>Cuernito con jamón</td>\n",
              "      <td>213</td>\n",
              "      <td>30</td>\n",
              "      <td>5</td>\n",
              "      <td>6</td>\n",
              "    </tr>\n",
              "    <tr>\n",
              "      <th>...</th>\n",
              "      <td>...</td>\n",
              "      <td>...</td>\n",
              "      <td>...</td>\n",
              "      <td>...</td>\n",
              "      <td>...</td>\n",
              "    </tr>\n",
              "    <tr>\n",
              "      <th>389</th>\n",
              "      <td>tacos de carne molida y verduras</td>\n",
              "      <td>276</td>\n",
              "      <td>0</td>\n",
              "      <td>19</td>\n",
              "      <td>25</td>\n",
              "    </tr>\n",
              "    <tr>\n",
              "      <th>390</th>\n",
              "      <td>Sandwich de Pavo</td>\n",
              "      <td>280</td>\n",
              "      <td>46</td>\n",
              "      <td>4</td>\n",
              "      <td>18</td>\n",
              "    </tr>\n",
              "    <tr>\n",
              "      <th>391</th>\n",
              "      <td>Pechuga de pollo y arroz</td>\n",
              "      <td>145</td>\n",
              "      <td>0</td>\n",
              "      <td>6</td>\n",
              "      <td>22</td>\n",
              "    </tr>\n",
              "    <tr>\n",
              "      <th>392</th>\n",
              "      <td>tacos de carne molida y verduras</td>\n",
              "      <td>276</td>\n",
              "      <td>0</td>\n",
              "      <td>19</td>\n",
              "      <td>25</td>\n",
              "    </tr>\n",
              "    <tr>\n",
              "      <th>393</th>\n",
              "      <td>Huevo a la mexicana</td>\n",
              "      <td>106</td>\n",
              "      <td>2</td>\n",
              "      <td>7</td>\n",
              "      <td>7</td>\n",
              "    </tr>\n",
              "  </tbody>\n",
              "</table>\n",
              "<p>394 rows × 5 columns</p>\n",
              "</div>\n",
              "      <button class=\"colab-df-convert\" onclick=\"convertToInteractive('df-2bcb7150-917b-4a65-9be3-4302bc47b769')\"\n",
              "              title=\"Convert this dataframe to an interactive table.\"\n",
              "              style=\"display:none;\">\n",
              "        \n",
              "  <svg xmlns=\"http://www.w3.org/2000/svg\" height=\"24px\"viewBox=\"0 0 24 24\"\n",
              "       width=\"24px\">\n",
              "    <path d=\"M0 0h24v24H0V0z\" fill=\"none\"/>\n",
              "    <path d=\"M18.56 5.44l.94 2.06.94-2.06 2.06-.94-2.06-.94-.94-2.06-.94 2.06-2.06.94zm-11 1L8.5 8.5l.94-2.06 2.06-.94-2.06-.94L8.5 2.5l-.94 2.06-2.06.94zm10 10l.94 2.06.94-2.06 2.06-.94-2.06-.94-.94-2.06-.94 2.06-2.06.94z\"/><path d=\"M17.41 7.96l-1.37-1.37c-.4-.4-.92-.59-1.43-.59-.52 0-1.04.2-1.43.59L10.3 9.45l-7.72 7.72c-.78.78-.78 2.05 0 2.83L4 21.41c.39.39.9.59 1.41.59.51 0 1.02-.2 1.41-.59l7.78-7.78 2.81-2.81c.8-.78.8-2.07 0-2.86zM5.41 20L4 18.59l7.72-7.72 1.47 1.35L5.41 20z\"/>\n",
              "  </svg>\n",
              "      </button>\n",
              "      \n",
              "  <style>\n",
              "    .colab-df-container {\n",
              "      display:flex;\n",
              "      flex-wrap:wrap;\n",
              "      gap: 12px;\n",
              "    }\n",
              "\n",
              "    .colab-df-convert {\n",
              "      background-color: #E8F0FE;\n",
              "      border: none;\n",
              "      border-radius: 50%;\n",
              "      cursor: pointer;\n",
              "      display: none;\n",
              "      fill: #1967D2;\n",
              "      height: 32px;\n",
              "      padding: 0 0 0 0;\n",
              "      width: 32px;\n",
              "    }\n",
              "\n",
              "    .colab-df-convert:hover {\n",
              "      background-color: #E2EBFA;\n",
              "      box-shadow: 0px 1px 2px rgba(60, 64, 67, 0.3), 0px 1px 3px 1px rgba(60, 64, 67, 0.15);\n",
              "      fill: #174EA6;\n",
              "    }\n",
              "\n",
              "    [theme=dark] .colab-df-convert {\n",
              "      background-color: #3B4455;\n",
              "      fill: #D2E3FC;\n",
              "    }\n",
              "\n",
              "    [theme=dark] .colab-df-convert:hover {\n",
              "      background-color: #434B5C;\n",
              "      box-shadow: 0px 1px 3px 1px rgba(0, 0, 0, 0.15);\n",
              "      filter: drop-shadow(0px 1px 2px rgba(0, 0, 0, 0.3));\n",
              "      fill: #FFFFFF;\n",
              "    }\n",
              "  </style>\n",
              "\n",
              "      <script>\n",
              "        const buttonEl =\n",
              "          document.querySelector('#df-2bcb7150-917b-4a65-9be3-4302bc47b769 button.colab-df-convert');\n",
              "        buttonEl.style.display =\n",
              "          google.colab.kernel.accessAllowed ? 'block' : 'none';\n",
              "\n",
              "        async function convertToInteractive(key) {\n",
              "          const element = document.querySelector('#df-2bcb7150-917b-4a65-9be3-4302bc47b769');\n",
              "          const dataTable =\n",
              "            await google.colab.kernel.invokeFunction('convertToInteractive',\n",
              "                                                     [key], {});\n",
              "          if (!dataTable) return;\n",
              "\n",
              "          const docLinkHtml = 'Like what you see? Visit the ' +\n",
              "            '<a target=\"_blank\" href=https://colab.research.google.com/notebooks/data_table.ipynb>data table notebook</a>'\n",
              "            + ' to learn more about interactive tables.';\n",
              "          element.innerHTML = '';\n",
              "          dataTable['output_type'] = 'display_data';\n",
              "          await google.colab.output.renderOutput(dataTable, element);\n",
              "          const docLink = document.createElement('div');\n",
              "          docLink.innerHTML = docLinkHtml;\n",
              "          element.appendChild(docLink);\n",
              "        }\n",
              "      </script>\n",
              "    </div>\n",
              "  </div>\n",
              "  "
            ]
          },
          "metadata": {},
          "execution_count": 67
        }
      ]
    },
    {
      "cell_type": "markdown",
      "source": [
        "Con la función info() vemos la información completa de los datos del nuevo dataframe, ya solo debemos tener los valores numéricos."
      ],
      "metadata": {
        "id": "NSwc-VUz5EU9"
      }
    },
    {
      "cell_type": "code",
      "source": [
        "\n",
        "datos_seleccionados.info()"
      ],
      "metadata": {
        "colab": {
          "base_uri": "https://localhost:8080/"
        },
        "id": "bw7Q8Jyx5Fyu",
        "outputId": "191e4956-9142-4241-e4e1-fc53bf4a6e6d"
      },
      "execution_count": null,
      "outputs": [
        {
          "output_type": "stream",
          "name": "stdout",
          "text": [
            "<class 'pandas.core.frame.DataFrame'>\n",
            "RangeIndex: 394 entries, 0 to 393\n",
            "Data columns (total 5 columns):\n",
            " #   Column             Non-Null Count  Dtype \n",
            "---  ------             --------------  ----- \n",
            " 0   Nombre             394 non-null    object\n",
            " 1   Calorias (kcal)    394 non-null    int64 \n",
            " 2   Carbohidratos (g)  394 non-null    int64 \n",
            " 3   Lípidos (g)        394 non-null    int64 \n",
            " 4   Proteína (g)       394 non-null    int64 \n",
            "dtypes: int64(4), object(1)\n",
            "memory usage: 15.5+ KB\n"
          ]
        }
      ]
    },
    {
      "cell_type": "markdown",
      "source": [
        "# **Limpiando los datos**\n",
        "\n",
        "Antes de continuar vamos a limpiar un poco nuestros datos utilizando las siguientes funciones:"
      ],
      "metadata": {
        "id": "dAs0X8QN5Htc"
      }
    },
    {
      "cell_type": "code",
      "source": [
        "datos_seleccionados.isnull().values.any() # buscamos valores nulos y obtenemos True o False dependiendo si hay o no\n",
        "\n",
        "dataset = datos_seleccionados.dropna() # creamos un nuevo dataframe descartando los valores nulos o vacíos de nuestro dataframe datos_seleccionados\n",
        "\n",
        "dataset.isnull().sum() # validamos que no tenemos valores nulos en ninguna columna, todos deben dar cero"
      ],
      "metadata": {
        "colab": {
          "base_uri": "https://localhost:8080/"
        },
        "id": "X2sckvS85KBl",
        "outputId": "39f6ad17-fe06-435a-8c70-6edcf55f7a9b"
      },
      "execution_count": null,
      "outputs": [
        {
          "output_type": "execute_result",
          "data": {
            "text/plain": [
              "Nombre               0\n",
              "Calorias (kcal)      0\n",
              "Carbohidratos (g)    0\n",
              "Lípidos (g)          0\n",
              "Proteína (g)         0\n",
              "dtype: int64"
            ]
          },
          "metadata": {},
          "execution_count": 69
        }
      ]
    },
    {
      "cell_type": "markdown",
      "source": [
        "# **Preparando los datos**\n",
        "\n",
        "El siguiente paso es asignar los atributos a las variables en nuestros datos. La variable X contiene los atributos de entrada y la variable y los atributos de salida:"
      ],
      "metadata": {
        "id": "F__vGBSI5Txd"
      }
    },
    {
      "cell_type": "code",
      "source": [
        "\n",
        "dataset.columns # vemos los nombres de nuestras columnas para asignarlos a las variables"
      ],
      "metadata": {
        "colab": {
          "base_uri": "https://localhost:8080/"
        },
        "id": "XWHWHTGY5Vqh",
        "outputId": "2725960a-d7d5-49b4-c69e-bcf2db178153"
      },
      "execution_count": null,
      "outputs": [
        {
          "output_type": "execute_result",
          "data": {
            "text/plain": [
              "Index(['Nombre', 'Calorias (kcal)', 'Carbohidratos (g)', 'Lípidos (g)',\n",
              "       'Proteína (g)'],\n",
              "      dtype='object')"
            ]
          },
          "metadata": {},
          "execution_count": 70
        }
      ]
    },
    {
      "cell_type": "code",
      "source": [
        "X = dataset[['Carbohidratos (g)', 'Lípidos (g)', 'Proteína (g)']].values # variables independientes\n",
        "\n",
        "y = dataset['Calorias (kcal)'].values # variable dependiente"
      ],
      "metadata": {
        "id": "bJSGW1EJ5f0t"
      },
      "execution_count": null,
      "outputs": []
    },
    {
      "cell_type": "markdown",
      "source": [
        "Ahora dividimos nuestros datos en un conjunto de entrenamiento (80%) y un conjunto de prueba (20%). Con los datos de entrenamiento realizamos el aprendizaje automático y con los datos de prueba realizamos la validación:"
      ],
      "metadata": {
        "id": "EaTMBL5W5j1p"
      }
    },
    {
      "cell_type": "code",
      "source": [
        "from sklearn.model_selection import train_test_split # importamos la herramienta para dividir los datos de SciKit-Learn\n",
        "\n",
        "X_train, X_test, y_train, y_test = train_test_split(X, y, test_size=0.2, random_state=0) # asignación de los datos 80% para entrenamiento y 20% para prueba"
      ],
      "metadata": {
        "id": "lIbD-ZLv5iUM"
      },
      "execution_count": null,
      "outputs": []
    },
    {
      "cell_type": "markdown",
      "source": [
        "# **Modelación de los datos**\n",
        "\n",
        "De la librería SciKit-Learn importamos  la clase de regresión lineal y crearemos un objeto de esa clase, que será nuestro modelo de regresión lineal:"
      ],
      "metadata": {
        "id": "1C9wrcsb5nxc"
      }
    },
    {
      "cell_type": "code",
      "source": [
        "from sklearn.linear_model import LinearRegression # importamos la clase de regresión lineal\n",
        "\n",
        "modelo_regresion = LinearRegression() # modelo de regresión"
      ],
      "metadata": {
        "id": "CpxrfCeq5ozL"
      },
      "execution_count": null,
      "outputs": []
    },
    {
      "cell_type": "markdown",
      "source": [
        "Ya con el modelo, utilizaremos la función fit() para \"ajustar\" el modelo a nuestro conjunto de datos. Esto permite al modelo \"estudiar\" nuestros datos y \"aprender\" de ellos:"
      ],
      "metadata": {
        "id": "__LX-wzU5q_r"
      }
    },
    {
      "cell_type": "code",
      "source": [
        "modelo_regresion.fit(X_train, y_train) # aprendizaje automático con base en nuestros datos"
      ],
      "metadata": {
        "colab": {
          "base_uri": "https://localhost:8080/"
        },
        "id": "_jAA-0tx5_qz",
        "outputId": "cfdc40b3-df7a-465d-81d7-7cfdeffaa0da"
      },
      "execution_count": null,
      "outputs": [
        {
          "output_type": "execute_result",
          "data": {
            "text/plain": [
              "LinearRegression()"
            ]
          },
          "metadata": {},
          "execution_count": 74
        }
      ]
    },
    {
      "cell_type": "markdown",
      "source": [
        "En este punto, el algorítmo ya ha aprendido cuales son los coeficientes de X óptimos para satisfacer el modelo. Para verlos copiamos el siguiente código:"
      ],
      "metadata": {
        "id": "ClkkK3jO8TOs"
      }
    },
    {
      "cell_type": "code",
      "source": [
        "x_columns = ['Carbohidratos (g)', 'Lípidos/grasas (g)', 'Proteína (g)']\n",
        "coeff_df = pd.DataFrame(modelo_regresion.coef_, x_columns, columns=['Coeficientes'])\n",
        "coeff_df # despliega los coefientes y sus valores; por cada unidad del coeficente, su impacto en las calorías será igual a su valor"
      ],
      "metadata": {
        "colab": {
          "base_uri": "https://localhost:8080/",
          "height": 143
        },
        "id": "w94eAOnJ6Czj",
        "outputId": "034038d2-b23a-4631-f655-8e64e0c4a632"
      },
      "execution_count": null,
      "outputs": [
        {
          "output_type": "execute_result",
          "data": {
            "text/plain": [
              "                    Coeficientes\n",
              "Carbohidratos (g)       2.987680\n",
              "Lípidos/grasas (g)      7.516915\n",
              "Proteína (g)            3.268298"
            ],
            "text/html": [
              "\n",
              "  <div id=\"df-6285e727-4c4b-49be-9c0a-c0655186c2bd\">\n",
              "    <div class=\"colab-df-container\">\n",
              "      <div>\n",
              "<style scoped>\n",
              "    .dataframe tbody tr th:only-of-type {\n",
              "        vertical-align: middle;\n",
              "    }\n",
              "\n",
              "    .dataframe tbody tr th {\n",
              "        vertical-align: top;\n",
              "    }\n",
              "\n",
              "    .dataframe thead th {\n",
              "        text-align: right;\n",
              "    }\n",
              "</style>\n",
              "<table border=\"1\" class=\"dataframe\">\n",
              "  <thead>\n",
              "    <tr style=\"text-align: right;\">\n",
              "      <th></th>\n",
              "      <th>Coeficientes</th>\n",
              "    </tr>\n",
              "  </thead>\n",
              "  <tbody>\n",
              "    <tr>\n",
              "      <th>Carbohidratos (g)</th>\n",
              "      <td>2.987680</td>\n",
              "    </tr>\n",
              "    <tr>\n",
              "      <th>Lípidos/grasas (g)</th>\n",
              "      <td>7.516915</td>\n",
              "    </tr>\n",
              "    <tr>\n",
              "      <th>Proteína (g)</th>\n",
              "      <td>3.268298</td>\n",
              "    </tr>\n",
              "  </tbody>\n",
              "</table>\n",
              "</div>\n",
              "      <button class=\"colab-df-convert\" onclick=\"convertToInteractive('df-6285e727-4c4b-49be-9c0a-c0655186c2bd')\"\n",
              "              title=\"Convert this dataframe to an interactive table.\"\n",
              "              style=\"display:none;\">\n",
              "        \n",
              "  <svg xmlns=\"http://www.w3.org/2000/svg\" height=\"24px\"viewBox=\"0 0 24 24\"\n",
              "       width=\"24px\">\n",
              "    <path d=\"M0 0h24v24H0V0z\" fill=\"none\"/>\n",
              "    <path d=\"M18.56 5.44l.94 2.06.94-2.06 2.06-.94-2.06-.94-.94-2.06-.94 2.06-2.06.94zm-11 1L8.5 8.5l.94-2.06 2.06-.94-2.06-.94L8.5 2.5l-.94 2.06-2.06.94zm10 10l.94 2.06.94-2.06 2.06-.94-2.06-.94-.94-2.06-.94 2.06-2.06.94z\"/><path d=\"M17.41 7.96l-1.37-1.37c-.4-.4-.92-.59-1.43-.59-.52 0-1.04.2-1.43.59L10.3 9.45l-7.72 7.72c-.78.78-.78 2.05 0 2.83L4 21.41c.39.39.9.59 1.41.59.51 0 1.02-.2 1.41-.59l7.78-7.78 2.81-2.81c.8-.78.8-2.07 0-2.86zM5.41 20L4 18.59l7.72-7.72 1.47 1.35L5.41 20z\"/>\n",
              "  </svg>\n",
              "      </button>\n",
              "      \n",
              "  <style>\n",
              "    .colab-df-container {\n",
              "      display:flex;\n",
              "      flex-wrap:wrap;\n",
              "      gap: 12px;\n",
              "    }\n",
              "\n",
              "    .colab-df-convert {\n",
              "      background-color: #E8F0FE;\n",
              "      border: none;\n",
              "      border-radius: 50%;\n",
              "      cursor: pointer;\n",
              "      display: none;\n",
              "      fill: #1967D2;\n",
              "      height: 32px;\n",
              "      padding: 0 0 0 0;\n",
              "      width: 32px;\n",
              "    }\n",
              "\n",
              "    .colab-df-convert:hover {\n",
              "      background-color: #E2EBFA;\n",
              "      box-shadow: 0px 1px 2px rgba(60, 64, 67, 0.3), 0px 1px 3px 1px rgba(60, 64, 67, 0.15);\n",
              "      fill: #174EA6;\n",
              "    }\n",
              "\n",
              "    [theme=dark] .colab-df-convert {\n",
              "      background-color: #3B4455;\n",
              "      fill: #D2E3FC;\n",
              "    }\n",
              "\n",
              "    [theme=dark] .colab-df-convert:hover {\n",
              "      background-color: #434B5C;\n",
              "      box-shadow: 0px 1px 3px 1px rgba(0, 0, 0, 0.15);\n",
              "      filter: drop-shadow(0px 1px 2px rgba(0, 0, 0, 0.3));\n",
              "      fill: #FFFFFF;\n",
              "    }\n",
              "  </style>\n",
              "\n",
              "      <script>\n",
              "        const buttonEl =\n",
              "          document.querySelector('#df-6285e727-4c4b-49be-9c0a-c0655186c2bd button.colab-df-convert');\n",
              "        buttonEl.style.display =\n",
              "          google.colab.kernel.accessAllowed ? 'block' : 'none';\n",
              "\n",
              "        async function convertToInteractive(key) {\n",
              "          const element = document.querySelector('#df-6285e727-4c4b-49be-9c0a-c0655186c2bd');\n",
              "          const dataTable =\n",
              "            await google.colab.kernel.invokeFunction('convertToInteractive',\n",
              "                                                     [key], {});\n",
              "          if (!dataTable) return;\n",
              "\n",
              "          const docLinkHtml = 'Like what you see? Visit the ' +\n",
              "            '<a target=\"_blank\" href=https://colab.research.google.com/notebooks/data_table.ipynb>data table notebook</a>'\n",
              "            + ' to learn more about interactive tables.';\n",
              "          element.innerHTML = '';\n",
              "          dataTable['output_type'] = 'display_data';\n",
              "          await google.colab.output.renderOutput(dataTable, element);\n",
              "          const docLink = document.createElement('div');\n",
              "          docLink.innerHTML = docLinkHtml;\n",
              "          element.appendChild(docLink);\n",
              "        }\n",
              "      </script>\n",
              "    </div>\n",
              "  </div>\n",
              "  "
            ]
          },
          "metadata": {},
          "execution_count": 75
        }
      ]
    },
    {
      "cell_type": "markdown",
      "source": [
        "Ahora que hemos creado nuestro modelo y lo hemos entrenado, es hora de probar el modelo con nuestro conjunto de datos de prueba:"
      ],
      "metadata": {
        "id": "uB0zAhLq8b-i"
      }
    },
    {
      "cell_type": "code",
      "source": [
        "\n",
        "y_pred = modelo_regresion.predict(X_test) # probamos nuestro modelo con los valores de prueba"
      ],
      "metadata": {
        "id": "1xgB0f148cfa"
      },
      "execution_count": null,
      "outputs": []
    },
    {
      "cell_type": "markdown",
      "source": [
        "Revisemos la diferencia entre los valores actuales y los valores de predicción en la comparación:"
      ],
      "metadata": {
        "id": "Wjgfb1UN8haZ"
      }
    },
    {
      "cell_type": "code",
      "source": [
        "validacion = pd.DataFrame({'Actual': y_test, 'Predicción': y_pred, 'Diferencia': y_test-y_pred}) # creamos un dataframe con los valores actuales y los de predicción\n",
        "\n",
        "muestra_validacion = validacion.head(25) # elegimos una muestra con 25 valores \n",
        "\n",
        "muestra_validacion # desplegamos esos 25 valores "
      ],
      "metadata": {
        "colab": {
          "base_uri": "https://localhost:8080/",
          "height": 833
        },
        "id": "S8vm9vz58i1i",
        "outputId": "40199d56-5138-407b-c06d-94882d52ce6e"
      },
      "execution_count": null,
      "outputs": [
        {
          "output_type": "execute_result",
          "data": {
            "text/plain": [
              "    Actual  Predicción  Diferencia\n",
              "0      276  266.816916    9.183084\n",
              "1      276  266.816916    9.183084\n",
              "2      145  159.292133  -14.292133\n",
              "3      280  268.618413   11.381587\n",
              "4      276  266.816916    9.183084\n",
              "5      276  266.816916    9.183084\n",
              "6      276  266.816916    9.183084\n",
              "7      106  123.759944  -17.759944\n",
              "8      106  123.759944  -17.759944\n",
              "9      106  123.759944  -17.759944\n",
              "10     106  123.759944  -17.759944\n",
              "11     106  123.759944  -17.759944\n",
              "12     276  266.816916    9.183084\n",
              "13     106  123.759944  -17.759944\n",
              "14     106  123.759944  -17.759944\n",
              "15     145  159.292133  -14.292133\n",
              "16     106  123.759944  -17.759944\n",
              "17     106  123.759944  -17.759944\n",
              "18     280  268.618413   11.381587\n",
              "19     145  159.292133  -14.292133\n",
              "20     145  159.292133  -14.292133\n",
              "21     276  266.816916    9.183084\n",
              "22     280  268.618413   11.381587\n",
              "23     106  123.759944  -17.759944\n",
              "24     145  159.292133  -14.292133"
            ],
            "text/html": [
              "\n",
              "  <div id=\"df-3077734b-d1aa-4938-b823-a2ecfb296fc5\">\n",
              "    <div class=\"colab-df-container\">\n",
              "      <div>\n",
              "<style scoped>\n",
              "    .dataframe tbody tr th:only-of-type {\n",
              "        vertical-align: middle;\n",
              "    }\n",
              "\n",
              "    .dataframe tbody tr th {\n",
              "        vertical-align: top;\n",
              "    }\n",
              "\n",
              "    .dataframe thead th {\n",
              "        text-align: right;\n",
              "    }\n",
              "</style>\n",
              "<table border=\"1\" class=\"dataframe\">\n",
              "  <thead>\n",
              "    <tr style=\"text-align: right;\">\n",
              "      <th></th>\n",
              "      <th>Actual</th>\n",
              "      <th>Predicción</th>\n",
              "      <th>Diferencia</th>\n",
              "    </tr>\n",
              "  </thead>\n",
              "  <tbody>\n",
              "    <tr>\n",
              "      <th>0</th>\n",
              "      <td>276</td>\n",
              "      <td>266.816916</td>\n",
              "      <td>9.183084</td>\n",
              "    </tr>\n",
              "    <tr>\n",
              "      <th>1</th>\n",
              "      <td>276</td>\n",
              "      <td>266.816916</td>\n",
              "      <td>9.183084</td>\n",
              "    </tr>\n",
              "    <tr>\n",
              "      <th>2</th>\n",
              "      <td>145</td>\n",
              "      <td>159.292133</td>\n",
              "      <td>-14.292133</td>\n",
              "    </tr>\n",
              "    <tr>\n",
              "      <th>3</th>\n",
              "      <td>280</td>\n",
              "      <td>268.618413</td>\n",
              "      <td>11.381587</td>\n",
              "    </tr>\n",
              "    <tr>\n",
              "      <th>4</th>\n",
              "      <td>276</td>\n",
              "      <td>266.816916</td>\n",
              "      <td>9.183084</td>\n",
              "    </tr>\n",
              "    <tr>\n",
              "      <th>5</th>\n",
              "      <td>276</td>\n",
              "      <td>266.816916</td>\n",
              "      <td>9.183084</td>\n",
              "    </tr>\n",
              "    <tr>\n",
              "      <th>6</th>\n",
              "      <td>276</td>\n",
              "      <td>266.816916</td>\n",
              "      <td>9.183084</td>\n",
              "    </tr>\n",
              "    <tr>\n",
              "      <th>7</th>\n",
              "      <td>106</td>\n",
              "      <td>123.759944</td>\n",
              "      <td>-17.759944</td>\n",
              "    </tr>\n",
              "    <tr>\n",
              "      <th>8</th>\n",
              "      <td>106</td>\n",
              "      <td>123.759944</td>\n",
              "      <td>-17.759944</td>\n",
              "    </tr>\n",
              "    <tr>\n",
              "      <th>9</th>\n",
              "      <td>106</td>\n",
              "      <td>123.759944</td>\n",
              "      <td>-17.759944</td>\n",
              "    </tr>\n",
              "    <tr>\n",
              "      <th>10</th>\n",
              "      <td>106</td>\n",
              "      <td>123.759944</td>\n",
              "      <td>-17.759944</td>\n",
              "    </tr>\n",
              "    <tr>\n",
              "      <th>11</th>\n",
              "      <td>106</td>\n",
              "      <td>123.759944</td>\n",
              "      <td>-17.759944</td>\n",
              "    </tr>\n",
              "    <tr>\n",
              "      <th>12</th>\n",
              "      <td>276</td>\n",
              "      <td>266.816916</td>\n",
              "      <td>9.183084</td>\n",
              "    </tr>\n",
              "    <tr>\n",
              "      <th>13</th>\n",
              "      <td>106</td>\n",
              "      <td>123.759944</td>\n",
              "      <td>-17.759944</td>\n",
              "    </tr>\n",
              "    <tr>\n",
              "      <th>14</th>\n",
              "      <td>106</td>\n",
              "      <td>123.759944</td>\n",
              "      <td>-17.759944</td>\n",
              "    </tr>\n",
              "    <tr>\n",
              "      <th>15</th>\n",
              "      <td>145</td>\n",
              "      <td>159.292133</td>\n",
              "      <td>-14.292133</td>\n",
              "    </tr>\n",
              "    <tr>\n",
              "      <th>16</th>\n",
              "      <td>106</td>\n",
              "      <td>123.759944</td>\n",
              "      <td>-17.759944</td>\n",
              "    </tr>\n",
              "    <tr>\n",
              "      <th>17</th>\n",
              "      <td>106</td>\n",
              "      <td>123.759944</td>\n",
              "      <td>-17.759944</td>\n",
              "    </tr>\n",
              "    <tr>\n",
              "      <th>18</th>\n",
              "      <td>280</td>\n",
              "      <td>268.618413</td>\n",
              "      <td>11.381587</td>\n",
              "    </tr>\n",
              "    <tr>\n",
              "      <th>19</th>\n",
              "      <td>145</td>\n",
              "      <td>159.292133</td>\n",
              "      <td>-14.292133</td>\n",
              "    </tr>\n",
              "    <tr>\n",
              "      <th>20</th>\n",
              "      <td>145</td>\n",
              "      <td>159.292133</td>\n",
              "      <td>-14.292133</td>\n",
              "    </tr>\n",
              "    <tr>\n",
              "      <th>21</th>\n",
              "      <td>276</td>\n",
              "      <td>266.816916</td>\n",
              "      <td>9.183084</td>\n",
              "    </tr>\n",
              "    <tr>\n",
              "      <th>22</th>\n",
              "      <td>280</td>\n",
              "      <td>268.618413</td>\n",
              "      <td>11.381587</td>\n",
              "    </tr>\n",
              "    <tr>\n",
              "      <th>23</th>\n",
              "      <td>106</td>\n",
              "      <td>123.759944</td>\n",
              "      <td>-17.759944</td>\n",
              "    </tr>\n",
              "    <tr>\n",
              "      <th>24</th>\n",
              "      <td>145</td>\n",
              "      <td>159.292133</td>\n",
              "      <td>-14.292133</td>\n",
              "    </tr>\n",
              "  </tbody>\n",
              "</table>\n",
              "</div>\n",
              "      <button class=\"colab-df-convert\" onclick=\"convertToInteractive('df-3077734b-d1aa-4938-b823-a2ecfb296fc5')\"\n",
              "              title=\"Convert this dataframe to an interactive table.\"\n",
              "              style=\"display:none;\">\n",
              "        \n",
              "  <svg xmlns=\"http://www.w3.org/2000/svg\" height=\"24px\"viewBox=\"0 0 24 24\"\n",
              "       width=\"24px\">\n",
              "    <path d=\"M0 0h24v24H0V0z\" fill=\"none\"/>\n",
              "    <path d=\"M18.56 5.44l.94 2.06.94-2.06 2.06-.94-2.06-.94-.94-2.06-.94 2.06-2.06.94zm-11 1L8.5 8.5l.94-2.06 2.06-.94-2.06-.94L8.5 2.5l-.94 2.06-2.06.94zm10 10l.94 2.06.94-2.06 2.06-.94-2.06-.94-.94-2.06-.94 2.06-2.06.94z\"/><path d=\"M17.41 7.96l-1.37-1.37c-.4-.4-.92-.59-1.43-.59-.52 0-1.04.2-1.43.59L10.3 9.45l-7.72 7.72c-.78.78-.78 2.05 0 2.83L4 21.41c.39.39.9.59 1.41.59.51 0 1.02-.2 1.41-.59l7.78-7.78 2.81-2.81c.8-.78.8-2.07 0-2.86zM5.41 20L4 18.59l7.72-7.72 1.47 1.35L5.41 20z\"/>\n",
              "  </svg>\n",
              "      </button>\n",
              "      \n",
              "  <style>\n",
              "    .colab-df-container {\n",
              "      display:flex;\n",
              "      flex-wrap:wrap;\n",
              "      gap: 12px;\n",
              "    }\n",
              "\n",
              "    .colab-df-convert {\n",
              "      background-color: #E8F0FE;\n",
              "      border: none;\n",
              "      border-radius: 50%;\n",
              "      cursor: pointer;\n",
              "      display: none;\n",
              "      fill: #1967D2;\n",
              "      height: 32px;\n",
              "      padding: 0 0 0 0;\n",
              "      width: 32px;\n",
              "    }\n",
              "\n",
              "    .colab-df-convert:hover {\n",
              "      background-color: #E2EBFA;\n",
              "      box-shadow: 0px 1px 2px rgba(60, 64, 67, 0.3), 0px 1px 3px 1px rgba(60, 64, 67, 0.15);\n",
              "      fill: #174EA6;\n",
              "    }\n",
              "\n",
              "    [theme=dark] .colab-df-convert {\n",
              "      background-color: #3B4455;\n",
              "      fill: #D2E3FC;\n",
              "    }\n",
              "\n",
              "    [theme=dark] .colab-df-convert:hover {\n",
              "      background-color: #434B5C;\n",
              "      box-shadow: 0px 1px 3px 1px rgba(0, 0, 0, 0.15);\n",
              "      filter: drop-shadow(0px 1px 2px rgba(0, 0, 0, 0.3));\n",
              "      fill: #FFFFFF;\n",
              "    }\n",
              "  </style>\n",
              "\n",
              "      <script>\n",
              "        const buttonEl =\n",
              "          document.querySelector('#df-3077734b-d1aa-4938-b823-a2ecfb296fc5 button.colab-df-convert');\n",
              "        buttonEl.style.display =\n",
              "          google.colab.kernel.accessAllowed ? 'block' : 'none';\n",
              "\n",
              "        async function convertToInteractive(key) {\n",
              "          const element = document.querySelector('#df-3077734b-d1aa-4938-b823-a2ecfb296fc5');\n",
              "          const dataTable =\n",
              "            await google.colab.kernel.invokeFunction('convertToInteractive',\n",
              "                                                     [key], {});\n",
              "          if (!dataTable) return;\n",
              "\n",
              "          const docLinkHtml = 'Like what you see? Visit the ' +\n",
              "            '<a target=\"_blank\" href=https://colab.research.google.com/notebooks/data_table.ipynb>data table notebook</a>'\n",
              "            + ' to learn more about interactive tables.';\n",
              "          element.innerHTML = '';\n",
              "          dataTable['output_type'] = 'display_data';\n",
              "          await google.colab.output.renderOutput(dataTable, element);\n",
              "          const docLink = document.createElement('div');\n",
              "          docLink.innerHTML = docLinkHtml;\n",
              "          element.appendChild(docLink);\n",
              "        }\n",
              "      </script>\n",
              "    </div>\n",
              "  </div>\n",
              "  "
            ]
          },
          "metadata": {},
          "execution_count": 77
        }
      ]
    },
    {
      "cell_type": "markdown",
      "source": [
        "Usamos la función describe() para obtener la estadística descriptiva de la columna Diferencia:"
      ],
      "metadata": {
        "id": "P8iAlnWZ8mVi"
      }
    },
    {
      "cell_type": "code",
      "source": [
        "validacion[\"Diferencia\"].describe()"
      ],
      "metadata": {
        "colab": {
          "base_uri": "https://localhost:8080/"
        },
        "id": "nRjeEhOI8kko",
        "outputId": "ab81a8fd-6c17-424c-d06b-ac1414c65ce4"
      },
      "execution_count": null,
      "outputs": [
        {
          "output_type": "execute_result",
          "data": {
            "text/plain": [
              "count    79.000000\n",
              "mean     -5.317322\n",
              "std      13.913567\n",
              "min     -35.383921\n",
              "25%     -17.759944\n",
              "50%     -14.292133\n",
              "75%       9.183084\n",
              "max      28.310823\n",
              "Name: Diferencia, dtype: float64"
            ]
          },
          "metadata": {},
          "execution_count": 78
        }
      ]
    },
    {
      "cell_type": "markdown",
      "source": [
        "Podemos usar la raíz de la desviación media cuadrada, para determinar que tan preciso es el modelo. Aquí buscamos que su valor sea menor al 10% de la media de la variable y:\n",
        "\n"
      ],
      "metadata": {
        "id": "oQJHYH9m8x6K"
      }
    },
    {
      "cell_type": "code",
      "source": [
        "from sklearn import metrics # importamos las métricas\n",
        "\n",
        "import numpy as np\n",
        "\n",
        "print(\"Raíz de la desviación media al cuadrado:\", np.sqrt(metrics.mean_squared_error(y_test, y_pred))) # imprimimos la raíz de la desviación media al cuadrado"
      ],
      "metadata": {
        "colab": {
          "base_uri": "https://localhost:8080/"
        },
        "id": "YxxPAfrT8yNq",
        "outputId": "c28693cf-d9f1-4969-be54-4fa45b7cef93"
      },
      "execution_count": null,
      "outputs": [
        {
          "output_type": "stream",
          "name": "stdout",
          "text": [
            "Raíz de la desviación media al cuadrado: 14.812521328063458\n"
          ]
        }
      ]
    },
    {
      "cell_type": "markdown",
      "source": [
        "# **Visualización de los datos **\n",
        "Ahora toca realizar los gráficos para la visualización de los datos para hacer la comparación de valores actuales y de predicción y estimar de manera visual que tan preciso o no es nuestro modelo para calcular calorías. \n",
        "Para esto importamos la librería matplotlib:"
      ],
      "metadata": {
        "id": "fOay0Jyg86BJ"
      }
    },
    {
      "cell_type": "code",
      "source": [
        "import matplotlib.pyplot as plt # importamos la librería que nos permitirá graficar\n",
        "\n",
        "muestra_validacion.plot.bar(rot=0)  # creamos un gráfico de barras con el dataframe que contiene nuestros datos actuales y de predicción\n",
        "\n",
        "plt.title(\"Comparación de calorías actuales y de predicción\") # indicamos el título del gráfico\n",
        "\n",
        "plt.xlabel(\"Muestra de alimentos\") # indicamos la etiqueta del eje de las x, los alimentos\n",
        "\n",
        "plt.ylabel(\"Cantidad de calorías\") # indicamos la etiqueta del eje de las y, la cantidad de calorías\n",
        "\n",
        "plt.show() # desplegamos el gráfico"
      ],
      "metadata": {
        "colab": {
          "base_uri": "https://localhost:8080/",
          "height": 295
        },
        "id": "wUAEAVob843C",
        "outputId": "59865c20-a571-4212-8690-2534b1381868"
      },
      "execution_count": null,
      "outputs": [
        {
          "output_type": "display_data",
          "data": {
            "text/plain": [
              "<Figure size 432x288 with 1 Axes>"
            ],
            "image/png": "[encoded data removed]"
          },
          "metadata": {
            "needs_background": "light"
          }
        }
      ]
    }
  ]
}